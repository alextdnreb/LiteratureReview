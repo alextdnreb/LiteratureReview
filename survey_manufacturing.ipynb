{
 "cells": [
  {
   "cell_type": "markdown",
   "metadata": {},
   "source": [
    "# A survey on AI-driven advancements of smart manufacturing"
   ]
  },
  {
   "cell_type": "code",
   "execution_count": 2,
   "metadata": {},
   "outputs": [],
   "source": [
    "from search_utils import (\n",
    "    query_dblp_api,\n",
    "    retrieve_data_from_dblp_response,\n",
    ")\n",
    "import pandas as pd"
   ]
  },
  {
   "cell_type": "markdown",
   "metadata": {},
   "source": [
    "First, we use the search utiliy to query publications related to \"smart manufacturing\" from the dblp API."
   ]
  },
  {
   "cell_type": "code",
   "execution_count": 3,
   "metadata": {},
   "outputs": [
    {
     "name": "stdout",
     "output_type": "stream",
     "text": [
      "Number of search results:  864\n"
     ]
    },
    {
     "data": {
      "text/html": [
       "<div>\n",
       "<style scoped>\n",
       "    .dataframe tbody tr th:only-of-type {\n",
       "        vertical-align: middle;\n",
       "    }\n",
       "\n",
       "    .dataframe tbody tr th {\n",
       "        vertical-align: top;\n",
       "    }\n",
       "\n",
       "    .dataframe thead th {\n",
       "        text-align: right;\n",
       "    }\n",
       "</style>\n",
       "<table border=\"1\" class=\"dataframe\">\n",
       "  <thead>\n",
       "    <tr style=\"text-align: right;\">\n",
       "      <th></th>\n",
       "      <th>title</th>\n",
       "      <th>authors</th>\n",
       "      <th>venue</th>\n",
       "      <th>year</th>\n",
       "      <th>doi</th>\n",
       "    </tr>\n",
       "  </thead>\n",
       "  <tbody>\n",
       "    <tr>\n",
       "      <th>0</th>\n",
       "      <td>Smart Cloud Manufacturing (Cloud Manufacturing...</td>\n",
       "      <td>Bo Hu Li 0001, Lin Zhang 0009, Xudong Chai</td>\n",
       "      <td>CE</td>\n",
       "      <td>2014</td>\n",
       "      <td>10.3233/978-1-61499-440-4-26</td>\n",
       "    </tr>\n",
       "    <tr>\n",
       "      <th>0</th>\n",
       "      <td>Hypernetwork-based manufacturing service sched...</td>\n",
       "      <td>Ying Cheng 0001, Luning Bi, Fei Tao, Ping Ji 0001</td>\n",
       "      <td>J. Intell. Manuf.</td>\n",
       "      <td>2020</td>\n",
       "      <td>10.1007/S10845-018-1417-8</td>\n",
       "    </tr>\n",
       "    <tr>\n",
       "      <th>0</th>\n",
       "      <td>When Smart Gets Smarter: How Big Data Analytic...</td>\n",
       "      <td>Maria Fay, Nikolai Kazantsev</td>\n",
       "      <td>ICIS</td>\n",
       "      <td>2018</td>\n",
       "      <td>None</td>\n",
       "    </tr>\n",
       "  </tbody>\n",
       "</table>\n",
       "</div>"
      ],
      "text/plain": [
       "                                               title  \\\n",
       "0  Smart Cloud Manufacturing (Cloud Manufacturing...   \n",
       "0  Hypernetwork-based manufacturing service sched...   \n",
       "0  When Smart Gets Smarter: How Big Data Analytic...   \n",
       "\n",
       "                                             authors              venue  year  \\\n",
       "0         Bo Hu Li 0001, Lin Zhang 0009, Xudong Chai                 CE  2014   \n",
       "0  Ying Cheng 0001, Luning Bi, Fei Tao, Ping Ji 0001  J. Intell. Manuf.  2020   \n",
       "0                       Maria Fay, Nikolai Kazantsev               ICIS  2018   \n",
       "\n",
       "                            doi  \n",
       "0  10.3233/978-1-61499-440-4-26  \n",
       "0     10.1007/S10845-018-1417-8  \n",
       "0                          None  "
      ]
     },
     "metadata": {},
     "output_type": "display_data"
    }
   ],
   "source": [
    "response = query_dblp_api(\"smart manufacturing\")\n",
    "result = retrieve_data_from_dblp_response(response)\n",
    "\n",
    "print(\"Number of search results: \", len(result))\n",
    "display(result.head(3))"
   ]
  },
  {
   "cell_type": "code",
   "execution_count": 4,
   "metadata": {},
   "outputs": [
    {
     "name": "stdout",
     "output_type": "stream",
     "text": [
      "Number of results from 2024:  30\n"
     ]
    }
   ],
   "source": [
    "recent_results = result[\n",
    "    result[\"year\"] == \"2024\"\n",
    "]  # only publications from 2024 are relevant\n",
    "print(\"Number of results from 2024: \", len(recent_results))"
   ]
  },
  {
   "cell_type": "markdown",
   "metadata": {},
   "source": [
    "We conduct a script-supported pre-filtering to find papers that are related to AI. \n",
    "\n",
    "Our script prints the DOI for each of the recent papers, which we can use to find the respective PDF. We then read the abstract and decide whether the paper is related to AI. \n",
    "\n",
    "The script waits for our input, saves it, and proceeds to the next publication."
   ]
  },
  {
   "cell_type": "code",
   "execution_count": 24,
   "metadata": {},
   "outputs": [
    {
     "name": "stdout",
     "output_type": "stream",
     "text": [
      "https://doi.org/10.48550/ARXIV.2402.17868\n",
      "Choose 0 for non-AI and 1 for AI\n",
      "0\n",
      "papers does not seem to be related to AI; please provide topic\n",
      "decision was made, proceed\n",
      "https://doi.org/10.1109/ACCESS.2024.3373697\n",
      "Choose 0 for non-AI and 1 for AI\n",
      "1\n",
      "decision was made, proceed\n",
      "https://doi.org/10.1016/J.CIE.2023.109798\n",
      "Choose 0 for non-AI and 1 for AI\n",
      "0\n",
      "papers does not seem to be related to AI; please provide topic\n",
      "decision was made, proceed\n",
      "https://doi.org/10.1016/J.COMPIND.2023.104042\n",
      "Choose 0 for non-AI and 1 for AI\n",
      "please provide a valid input\n",
      "datascience\n",
      "Choose 0 for non-AI and 1 for AI\n",
      "1\n",
      "decision was made, proceed\n",
      "https://doi.org/10.1016/J.COSE.2023.103650\n",
      "Choose 0 for non-AI and 1 for AI\n",
      "1\n",
      "decision was made, proceed\n",
      "https://doi.org/10.1007/S10723-023-09738-Y\n",
      "Choose 0 for non-AI and 1 for AI\n",
      "1\n",
      "decision was made, proceed\n",
      "https://doi.org/10.1007/S10723-023-09723-5\n",
      "Choose 0 for non-AI and 1 for AI\n",
      "1\n",
      "decision was made, proceed\n",
      "https://doi.org/10.20965/IJAT.2024.P0003\n",
      "Choose 0 for non-AI and 1 for AI\n",
      "0\n",
      "papers does not seem to be related to AI; please provide topic\n",
      "decision was made, proceed\n",
      "https://doi.org/10.1080/0951192X.2023.2229270\n",
      "Choose 0 for non-AI and 1 for AI\n",
      "please provide a valid input\n",
      "titlepage\n",
      "Choose 0 for non-AI and 1 for AI\n",
      "0\n",
      "papers does not seem to be related to AI; please provide topic\n",
      "decision was made, proceed\n",
      "https://doi.org/10.1080/0951192X.2023.2296185\n",
      "Choose 0 for non-AI and 1 for AI\n",
      "0\n",
      "papers does not seem to be related to AI; please provide topic\n",
      "decision was made, proceed\n",
      "https://doi.org/10.1080/0951192X.2023.2257623\n",
      "Choose 0 for non-AI and 1 for AI\n",
      "1\n",
      "decision was made, proceed\n",
      "https://doi.org/10.1080/0951192X.2023.2228268\n",
      "Choose 0 for non-AI and 1 for AI\n",
      "0\n",
      "papers does not seem to be related to AI; please provide topic\n",
      "decision was made, proceed\n",
      "https://doi.org/10.1080/00207543.2023.2217285\n",
      "Choose 0 for non-AI and 1 for AI\n",
      "0\n",
      "papers does not seem to be related to AI; please provide topic\n",
      "decision was made, proceed\n",
      "https://doi.org/10.3390/INFO15020078\n",
      "Choose 0 for non-AI and 1 for AI\n",
      "0\n",
      "papers does not seem to be related to AI; please provide topic\n",
      "decision was made, proceed\n",
      "https://doi.org/10.1115/1.4063728\n",
      "Choose 0 for non-AI and 1 for AI\n",
      "1\n",
      "decision was made, proceed\n",
      "https://doi.org/10.1115/1.4062658\n",
      "Choose 0 for non-AI and 1 for AI\n",
      "1\n",
      "decision was made, proceed\n",
      "https://doi.org/10.1016/J.JII.2024.100577\n",
      "Choose 0 for non-AI and 1 for AI\n",
      "1\n",
      "decision was made, proceed\n",
      "https://doi.org/10.1016/J.JII.2024.100582\n",
      "Choose 0 for non-AI and 1 for AI\n",
      "1\n",
      "decision was made, proceed\n",
      "https://doi.org/10.1016/J.JII.2024.100578\n",
      "Choose 0 for non-AI and 1 for AI\n",
      "1\n",
      "decision was made, proceed\n",
      "https://doi.org/10.1016/J.JII.2023.100536\n",
      "Choose 0 for non-AI and 1 for AI\n",
      "1\n",
      "decision was made, proceed\n",
      "https://doi.org/10.1007/S10845-022-02049-1\n",
      "Choose 0 for non-AI and 1 for AI\n",
      "1\n",
      "decision was made, proceed\n",
      "https://doi.org/10.4018/JOEUC.336482\n",
      "Choose 0 for non-AI and 1 for AI\n",
      "1\n",
      "decision was made, proceed\n",
      "https://doi.org/10.1109/TII.2023.3288945\n",
      "Choose 0 for non-AI and 1 for AI\n",
      "0\n",
      "papers does not seem to be related to AI; please provide topic\n",
      "decision was made, proceed\n",
      "https://doi.org/10.5220/0012363900003657\n",
      "Choose 0 for non-AI and 1 for AI\n",
      "please provide a valid input\n",
      "distributedsystems\n",
      "Choose 0 for non-AI and 1 for AI\n",
      "0\n",
      "papers does not seem to be related to AI; please provide topic\n",
      "decision was made, proceed\n",
      "https://doi.org/10.1109/CCNC51664.2024.10454782\n",
      "Choose 0 for non-AI and 1 for AI\n",
      "1\n",
      "decision was made, proceed\n",
      "Exploring Capabilities for the Smart Service Transformation in Manufacturing: Insights from Theory and Practice.\n",
      "Choose 0 for non-AI and 1 for AI\n",
      "0\n",
      "papers does not seem to be related to AI; please provide topic\n",
      "decision was made, proceed\n",
      "https://doi.org/10.48550/ARXIV.2401.01374\n",
      "Choose 0 for non-AI and 1 for AI\n",
      "0\n",
      "papers does not seem to be related to AI; please provide topic\n",
      "decision was made, proceed\n",
      "https://doi.org/10.48550/ARXIV.2402.00243\n",
      "Choose 0 for non-AI and 1 for AI\n",
      "0\n",
      "papers does not seem to be related to AI; please provide topic\n",
      "decision was made, proceed\n",
      "https://doi.org/10.48550/ARXIV.2402.08979\n",
      "Choose 0 for non-AI and 1 for AI\n",
      "1\n",
      "decision was made, proceed\n",
      "https://doi.org/10.48550/ARXIV.2403.12381\n",
      "Choose 0 for non-AI and 1 for AI\n",
      "1\n",
      "decision was made, proceed\n"
     ]
    }
   ],
   "source": [
    "results = []\n",
    "recent_results.reset_index(drop=True, inplace=True)\n",
    "pd.options.mode.chained_assignment = None\n",
    "other_topics = []\n",
    "for index, publication in recent_results.iterrows():\n",
    "    if publication[\"doi\"] != None:\n",
    "\n",
    "\n",
    "        print(\"https://doi.org/\" + publication[\"doi\"])\n",
    "    else:\n",
    "        print(publication[\"title\"])\n",
    "\n",
    "\n",
    "    decision = -1\n",
    "\n",
    "\n",
    "    while decision != 0 and decision != 1:\n",
    "\n",
    "\n",
    "        print(\"Choose 0 for non-AI and 1 for AI\")\n",
    "\n",
    "\n",
    "        decision = input()\n",
    "        if str.isnumeric(decision):\n",
    "            decision = int(decision)\n",
    "        else:\n",
    "            print(\"please provide a valid input\")\n",
    "        print(decision)\n",
    "    if decision == 0:\n",
    "        print(\"papers does not seem to be related to AI; please provide topic\")\n",
    "        other_topic = input()\n",
    "        other_topics.append(other_topic)\n",
    "\n",
    "\n",
    "    recent_results.loc[index, \"result\"] = decision\n",
    "    print(\"decision was made, proceed\")"
   ]
  },
  {
   "cell_type": "code",
   "execution_count": 33,
   "metadata": {},
   "outputs": [
    {
     "name": "stdout",
     "output_type": "stream",
     "text": [
      "Number of papers that are related to AI:  17\n",
      "Number of papers that are not related to AI:  13\n",
      "['blockchain', 'data science', 'titlepage', 'titlepage', 'titlepage', 'datascience', 'distributedsystems', 'blockchain', 'distributedsystems', '0', '0', 'security', 'datascience']\n",
      "Additional topics:  titlepage             3\n",
      "blockchain            2\n",
      "datascience           2\n",
      "distributedsystems    2\n",
      "0                     2\n",
      "data science          1\n",
      "security              1\n",
      "Name: count, dtype: int64\n"
     ]
    }
   ],
   "source": [
    "recent_results[[\"title\", \"result\"]].to_csv(\"survey_ai_filter_results.csv\", index=False)\n",
    "print(\n",
    "    \"Number of papers that are related to AI: \",\n",
    "    len(recent_results[recent_results[\"result\"] == 1]),\n",
    ")\n",
    "print(\n",
    "    \"Number of papers that are not related to AI: \",\n",
    "    len(recent_results[recent_results[\"result\"] == 0]),\n",
    ")\n",
    "print(other_topics)\n",
    "print(\"Additional topics: \", pd.Series(other_topics).value_counts())"
   ]
  },
  {
   "cell_type": "markdown",
   "metadata": {},
   "source": [
    "Note: During execution of the script, I failed to correctly provide the topic for the non-ai publications \"Exploring Capabilities for the Smart Service Transformation in Manufacturing: Insights from Theory and Practice.\" and \"Taxonomy for Cybersecurity Threat Attributes and Countermeasures in Smart Manufacturing Systems.\" (non-AI related publication 9 and 10). \n",
    "\n",
    "I labelled them manually as \"service transformation\" and \"security\" afterwards."
   ]
  },
  {
   "cell_type": "code",
   "execution_count": 36,
   "metadata": {},
   "outputs": [
    {
     "name": "stdout",
     "output_type": "stream",
     "text": [
      "0     SmartQC: An Extensible DLT-Based Framework for...\n",
      "2     Unveiling the impact of carbon-neutral policie...\n",
      "7     Editorial: On-Machine and In-Process Measureme...\n",
      "8     A Multi-level spatial feature fusion-based tra...\n",
      "9     Smart manufacturing enabled by intelligent tec...\n",
      "11    Readiness assessment for smart manufacturing s...\n",
      "12    Designing distributed decision-making authorit...\n",
      "13    Industry 4.0 Innovation: A Systematic Literatu...\n",
      "22    A Full Replicas-Based Data Store Scheme Inspir...\n",
      "23    Additive Manufacturing of Nitinol for Smart Pe...\n",
      "25    Exploring Capabilities for the Smart Service T...\n",
      "26    Taxonomy for Cybersecurity Threat Attributes a...\n",
      "27    Capacity Constraint Analysis Using Object Dete...\n",
      "Name: title, dtype: object\n"
     ]
    }
   ],
   "source": [
    "print(recent_results[recent_results[\"result\"] == 0][\"title\"])"
   ]
  }
 ],
 "metadata": {
  "kernelspec": {
   "display_name": "venv",
   "language": "python",
   "name": "python3"
  },
  "language_info": {
   "codemirror_mode": {
    "name": "ipython",
    "version": 3
   },
   "file_extension": ".py",
   "mimetype": "text/x-python",
   "name": "python",
   "nbconvert_exporter": "python",
   "pygments_lexer": "ipython3",
   "version": "3.10.8"
  }
 },
 "nbformat": 4,
 "nbformat_minor": 2
}
