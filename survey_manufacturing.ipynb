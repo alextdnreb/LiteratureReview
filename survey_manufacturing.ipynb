{
 "cells": [
  {
   "cell_type": "code",
   "execution_count": 1,
   "metadata": {},
   "outputs": [],
   "source": [
    "from search_utils import (\n",
    "    query_dblp_api,\n",
    "    retrieve_data_from_dblp_response,\n",
    ")\n",
    "import pandas as pd"
   ]
  },
  {
   "cell_type": "markdown",
   "metadata": {},
   "source": [
    "First, we use our search utiliy to find papers related to \"smart manufacturing\""
   ]
  },
  {
   "cell_type": "code",
   "execution_count": 3,
   "metadata": {},
   "outputs": [
    {
     "data": {
      "text/html": [
       "<div>\n",
       "<style scoped>\n",
       "    .dataframe tbody tr th:only-of-type {\n",
       "        vertical-align: middle;\n",
       "    }\n",
       "\n",
       "    .dataframe tbody tr th {\n",
       "        vertical-align: top;\n",
       "    }\n",
       "\n",
       "    .dataframe thead th {\n",
       "        text-align: right;\n",
       "    }\n",
       "</style>\n",
       "<table border=\"1\" class=\"dataframe\">\n",
       "  <thead>\n",
       "    <tr style=\"text-align: right;\">\n",
       "      <th></th>\n",
       "      <th>title</th>\n",
       "      <th>authors</th>\n",
       "      <th>venue</th>\n",
       "      <th>year</th>\n",
       "      <th>doi</th>\n",
       "    </tr>\n",
       "  </thead>\n",
       "  <tbody>\n",
       "    <tr>\n",
       "      <th>0</th>\n",
       "      <td>Smart Cloud Manufacturing (Cloud Manufacturing...</td>\n",
       "      <td>Bo Hu Li 0001, Lin Zhang 0009, Xudong Chai</td>\n",
       "      <td>CE</td>\n",
       "      <td>2014</td>\n",
       "      <td>10.3233/978-1-61499-440-4-26</td>\n",
       "    </tr>\n",
       "    <tr>\n",
       "      <th>0</th>\n",
       "      <td>Hypernetwork-based manufacturing service sched...</td>\n",
       "      <td>Ying Cheng 0001, Luning Bi, Fei Tao, Ping Ji 0001</td>\n",
       "      <td>J. Intell. Manuf.</td>\n",
       "      <td>2020</td>\n",
       "      <td>10.1007/S10845-018-1417-8</td>\n",
       "    </tr>\n",
       "    <tr>\n",
       "      <th>0</th>\n",
       "      <td>When Smart Gets Smarter: How Big Data Analytic...</td>\n",
       "      <td>Maria Fay, Nikolai Kazantsev</td>\n",
       "      <td>ICIS</td>\n",
       "      <td>2018</td>\n",
       "      <td>None</td>\n",
       "    </tr>\n",
       "    <tr>\n",
       "      <th>0</th>\n",
       "      <td>Keynote presentation - 2: Smart tooling, smart...</td>\n",
       "      <td>Kai Cheng</td>\n",
       "      <td>ICAC</td>\n",
       "      <td>2015</td>\n",
       "      <td>10.1109/ICONAC.2015.7313648</td>\n",
       "    </tr>\n",
       "    <tr>\n",
       "      <th>0</th>\n",
       "      <td>Smart Manufacturing Through Cloud-Based Smart ...</td>\n",
       "      <td>Pablo Giménez, Benjamín Molina, Carlos Enrique...</td>\n",
       "      <td>Internet of Things Based on Smart Objects, Tec...</td>\n",
       "      <td>2014</td>\n",
       "      <td>10.1007/978-3-319-00491-4_6</td>\n",
       "    </tr>\n",
       "  </tbody>\n",
       "</table>\n",
       "</div>"
      ],
      "text/plain": [
       "                                               title  \\\n",
       "0  Smart Cloud Manufacturing (Cloud Manufacturing...   \n",
       "0  Hypernetwork-based manufacturing service sched...   \n",
       "0  When Smart Gets Smarter: How Big Data Analytic...   \n",
       "0  Keynote presentation - 2: Smart tooling, smart...   \n",
       "0  Smart Manufacturing Through Cloud-Based Smart ...   \n",
       "\n",
       "                                             authors  \\\n",
       "0         Bo Hu Li 0001, Lin Zhang 0009, Xudong Chai   \n",
       "0  Ying Cheng 0001, Luning Bi, Fei Tao, Ping Ji 0001   \n",
       "0                       Maria Fay, Nikolai Kazantsev   \n",
       "0                                          Kai Cheng   \n",
       "0  Pablo Giménez, Benjamín Molina, Carlos Enrique...   \n",
       "\n",
       "                                               venue  year  \\\n",
       "0                                                 CE  2014   \n",
       "0                                  J. Intell. Manuf.  2020   \n",
       "0                                               ICIS  2018   \n",
       "0                                               ICAC  2015   \n",
       "0  Internet of Things Based on Smart Objects, Tec...  2014   \n",
       "\n",
       "                            doi  \n",
       "0  10.3233/978-1-61499-440-4-26  \n",
       "0     10.1007/S10845-018-1417-8  \n",
       "0                          None  \n",
       "0   10.1109/ICONAC.2015.7313648  \n",
       "0   10.1007/978-3-319-00491-4_6  "
      ]
     },
     "metadata": {},
     "output_type": "display_data"
    }
   ],
   "source": [
    "response = query_dblp_api(\"smart manufacturing\")\n",
    "result = retrieve_data_from_dblp_response(response)\n",
    "\n",
    "print(\n",
    "    \"Number of search results: \",\n",
    ")\n",
    "display(result.head(5))"
   ]
  }
 ],
 "metadata": {
  "kernelspec": {
   "display_name": "venv",
   "language": "python",
   "name": "python3"
  },
  "language_info": {
   "codemirror_mode": {
    "name": "ipython",
    "version": 3
   },
   "file_extension": ".py",
   "mimetype": "text/x-python",
   "name": "python",
   "nbconvert_exporter": "python",
   "pygments_lexer": "ipython3",
   "version": "3.10.8"
  }
 },
 "nbformat": 4,
 "nbformat_minor": 2
}
